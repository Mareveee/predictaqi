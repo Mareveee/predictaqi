{
 "cells": [
  {
   "cell_type": "markdown",
   "metadata": {},
   "source": [
    "# Import Library"
   ]
  },
  {
   "cell_type": "code",
   "execution_count": 6,
   "metadata": {},
   "outputs": [],
   "source": [
    "from keras.models import Sequential\n",
    "from keras.layers import Dense,Dropout,LSTM\n",
    "from keras import optimizers\n",
    "from numpy import genfromtxt\n",
    "import numpy as np\n",
    "from keras.utils import to_categorical\n",
    "from sklearn.preprocessing import StandardScaler\n",
    "from sklearn.externals import joblib\n",
    "from keras.models import load_model\n",
    "from sklearn.metrics import accuracy_score\n",
    "from sklearn.metrics import confusion_matrix"
   ]
  },
  {
   "cell_type": "markdown",
   "metadata": {},
   "source": [
    "# read dataset and output"
   ]
  },
  {
   "cell_type": "code",
   "execution_count": 7,
   "metadata": {},
   "outputs": [],
   "source": [
    "dataset = genfromtxt('dataset/dataset.csv',delimiter=',')\n",
    "dataset1 = genfromtxt('dataset/dataset1.csv',delimiter=',')\n",
    "dataset2 = genfromtxt('dataset/dataset2.csv',delimiter=',')\n",
    "dataset3 = genfromtxt('dataset/dataset3.csv',delimiter=',')\n",
    "dataset4 = genfromtxt('dataset/dataset4.csv',delimiter=',')\n",
    "dataset5 = genfromtxt('dataset/dataset5.csv',delimiter=',')\n",
    "dataset6 = genfromtxt('dataset/dataset6.csv',delimiter=',')\n",
    "dataset7 = genfromtxt('dataset/dataset7.csv',delimiter=',')\n",
    "dataset8 = genfromtxt('dataset/dataset8.csv',delimiter=',')\n",
    "dataset9 = genfromtxt('dataset/dataset9.csv',delimiter=',')\n",
    "dataset10 = genfromtxt('dataset/dataset10.csv',delimiter=',')\n",
    "dataset11 = genfromtxt('dataset/dataset11.csv',delimiter=',')\n",
    "dataset12 = genfromtxt('dataset/dataset12.csv',delimiter=',')\n",
    "dataset13 = genfromtxt('dataset/dataset13.csv',delimiter=',')\n",
    "dataset14 = genfromtxt('dataset/dataset14.csv',delimiter=',')\n",
    "dataset15 = genfromtxt('dataset/dataset15.csv',delimiter=',')\n",
    "dataset16 = genfromtxt('dataset/dataset16.csv',delimiter=',')\n",
    "dataset17 = genfromtxt('dataset/dataset17.csv',delimiter=',')\n",
    "dataset18 = genfromtxt('dataset/dataset18.csv',delimiter=',')\n",
    "dataset19 = genfromtxt('dataset/dataset19.csv',delimiter=',')\n",
    "dataset20 = genfromtxt('dataset/dataset20.csv',delimiter=',')\n",
    "dataset21 = genfromtxt('dataset/dataset21.csv',delimiter=',')\n",
    "dataset22 = genfromtxt('dataset/dataset22.csv',delimiter=',')\n",
    "dataset23 = genfromtxt('dataset/dataset23.csv',delimiter=',')\n",
    "dataset24 = genfromtxt('dataset/dataset24.csv',delimiter=',')\n",
    "dataset25 = genfromtxt('dataset/dataset25.csv',delimiter=',')\n",
    "dataset26 = genfromtxt('dataset/dataset26.csv',delimiter=',')\n",
    "dataset27 = genfromtxt('dataset/dataset27.csv',delimiter=',')\n",
    "dataset28 = genfromtxt('dataset/dataset28.csv',delimiter=',')\n",
    "dataset29 = genfromtxt('dataset/dataset29.csv',delimiter=',')\n",
    "dataset30 = genfromtxt('dataset/dataset30.csv',delimiter=',')\n",
    "dataset31 = genfromtxt('dataset/dataset31.csv',delimiter=',')\n",
    "dataset32 = genfromtxt('dataset/dataset32.csv',delimiter=',')\n",
    "dataset33 = genfromtxt('dataset/dataset33.csv',delimiter=',')\n",
    "dataset34 = genfromtxt('dataset/dataset34.csv',delimiter=',')\n",
    "dataset35 = genfromtxt('dataset/dataset35.csv',delimiter=',')\n",
    "dataset36 = genfromtxt('dataset/dataset36.csv',delimiter=',')\n",
    "dataset37 = genfromtxt('dataset/dataset37.csv',delimiter=',')\n",
    "dataset38 = genfromtxt('dataset/dataset38.csv',delimiter=',')\n",
    "dataset39 = genfromtxt('dataset/dataset39.csv',delimiter=',')\n",
    "dataset40 = genfromtxt('dataset/dataset40.csv',delimiter=',')\n",
    "dataset41 = genfromtxt('dataset/dataset41.csv',delimiter=',')\n",
    "dataset42 = genfromtxt('dataset/dataset42.csv',delimiter=',')\n",
    "dataset43 = genfromtxt('dataset/dataset43.csv',delimiter=',')\n",
    "dataset44 = genfromtxt('dataset/dataset44.csv',delimiter=',')\n",
    "dataset45 = genfromtxt('dataset/dataset45.csv',delimiter=',')\n",
    "dataset46 = genfromtxt('dataset/dataset46.csv',delimiter=',')\n",
    "dataset47 = genfromtxt('dataset/dataset47.csv',delimiter=',')\n",
    "dataset48 = genfromtxt('dataset/dataset48.csv',delimiter=',')\n",
    "\n",
    "outputtrain = genfromtxt('dataset/outputtrain1hr.csv',delimiter=',')"
   ]
  },
  {
   "cell_type": "markdown",
   "metadata": {},
   "source": [
    "# Normalization"
   ]
  },
  {
   "cell_type": "code",
   "execution_count": 8,
   "metadata": {},
   "outputs": [],
   "source": [
    "datanorm = np.concatenate((dataset,dataset1,dataset2,dataset3,dataset4,dataset5,dataset6,dataset7,dataset8,dataset9,dataset10,\n",
    "                                          dataset11,dataset12,dataset13,dataset14,dataset15,dataset16,dataset17,dataset18,dataset19,dataset20,\n",
    "                                          dataset21,dataset22,dataset23,dataset24,dataset25,dataset26,dataset27,dataset28,dataset29,dataset30,\n",
    "                                          dataset31,dataset32,dataset34,dataset35,dataset36,dataset37,dataset38,dataset39,dataset40,\n",
    "                                          dataset41,dataset42,dataset43,dataset44,dataset45,dataset46,dataset47,dataset48,))\n",
    "scaler = StandardScaler()\n",
    "scaler.fit(datanorm)\n",
    "dataset = scaler.transform(dataset)\n",
    "dataset1 = scaler.transform(dataset1)\n",
    "dataset2 = scaler.transform(dataset2)\n",
    "dataset3 = scaler.transform(dataset3)\n",
    "dataset4 = scaler.transform(dataset4)\n",
    "dataset5 = scaler.transform(dataset5)\n",
    "dataset6 = scaler.transform(dataset6)\n",
    "dataset7 = scaler.transform(dataset7)\n",
    "dataset8 = scaler.transform(dataset8)\n",
    "dataset9 = scaler.transform(dataset9)\n",
    "dataset10 = scaler.transform(dataset10)\n",
    "dataset11 = scaler.transform(dataset11)\n",
    "dataset12 = scaler.transform(dataset12)\n",
    "dataset13 = scaler.transform(dataset13)\n",
    "dataset14 = scaler.transform(dataset14)\n",
    "dataset15 = scaler.transform(dataset15)\n",
    "dataset16 = scaler.transform(dataset16)\n",
    "dataset17 = scaler.transform(dataset17)\n",
    "dataset18 = scaler.transform(dataset18)\n",
    "dataset19 = scaler.transform(dataset19)\n",
    "dataset20 = scaler.transform(dataset20)\n",
    "dataset21 = scaler.transform(dataset21)\n",
    "dataset22 = scaler.transform(dataset22)\n",
    "dataset23 = scaler.transform(dataset23)\n",
    "dataset24 = scaler.transform(dataset24)\n",
    "dataset25 = scaler.transform(dataset25)\n",
    "dataset26 = scaler.transform(dataset26)\n",
    "dataset27 = scaler.transform(dataset27)\n",
    "dataset28 = scaler.transform(dataset28)\n",
    "dataset29 = scaler.transform(dataset29)\n",
    "dataset30 = scaler.transform(dataset30)\n",
    "dataset31 = scaler.transform(dataset31)\n",
    "dataset32 = scaler.transform(dataset32)\n",
    "dataset34 = scaler.transform(dataset34)\n",
    "dataset35 = scaler.transform(dataset35)\n",
    "dataset36 = scaler.transform(dataset36)\n",
    "dataset37 = scaler.transform(dataset37)\n",
    "dataset38 = scaler.transform(dataset38)\n",
    "dataset39 = scaler.transform(dataset39)\n",
    "dataset40 = scaler.transform(dataset40)\n",
    "dataset41 = scaler.transform(dataset41)\n",
    "dataset42 = scaler.transform(dataset42)\n",
    "dataset43 = scaler.transform(dataset43)\n",
    "dataset44 = scaler.transform(dataset44)\n",
    "dataset45 = scaler.transform(dataset45)\n",
    "dataset46 = scaler.transform(dataset46)\n",
    "dataset47 = scaler.transform(dataset47)\n",
    "dataset48 = scaler.transform(dataset48)"
   ]
  },
  {
   "cell_type": "markdown",
   "metadata": {},
   "source": [
    "# save normalization model"
   ]
  },
  {
   "cell_type": "code",
   "execution_count": 10,
   "metadata": {},
   "outputs": [
    {
     "data": {
      "text/plain": [
       "['model_norm1hr.pkl']"
      ]
     },
     "execution_count": 10,
     "metadata": {},
     "output_type": "execute_result"
    }
   ],
   "source": [
    "joblib.dump(scaler, 'model_norm1hr.pkl')"
   ]
  },
  {
   "cell_type": "markdown",
   "metadata": {},
   "source": [
    "# function split data"
   ]
  },
  {
   "cell_type": "code",
   "execution_count": 11,
   "metadata": {},
   "outputs": [],
   "source": [
    "def getdataTimestep(dataset,hour):\n",
    "    training = []\n",
    "    start = 0\n",
    "    end = 23\n",
    "    for x in range(0,len(dataset)-end):\n",
    "        training.append(dataset[(end-hour)+x:end+x,:])\n",
    "    return training"
   ]
  },
  {
   "cell_type": "markdown",
   "metadata": {},
   "source": [
    "# split data"
   ]
  },
  {
   "cell_type": "code",
   "execution_count": 12,
   "metadata": {},
   "outputs": [
    {
     "name": "stdout",
     "output_type": "stream",
     "text": [
      "33033\n",
      "33033\n"
     ]
    }
   ],
   "source": [
    "hour = 23\n",
    "x_train =  getdataTimestep(dataset,hour)+getdataTimestep(dataset1,hour)+getdataTimestep(dataset2,hour)+getdataTimestep(dataset3,hour)+getdataTimestep(dataset4,hour)+getdataTimestep(dataset5,hour)+getdataTimestep(dataset6,hour)+getdataTimestep(dataset7,hour)+getdataTimestep(dataset8,hour)+getdataTimestep(dataset9,hour)+getdataTimestep(dataset10,hour)+getdataTimestep(dataset11,hour)+getdataTimestep(dataset12,hour)+getdataTimestep(dataset13,hour)+getdataTimestep(dataset14,hour)+getdataTimestep(dataset15,hour)+getdataTimestep(dataset16,hour)+getdataTimestep(dataset17,hour)+getdataTimestep(dataset18,hour)+getdataTimestep(dataset19,hour)+getdataTimestep(dataset20,hour)+getdataTimestep(dataset21,hour)+getdataTimestep(dataset22,hour)+getdataTimestep(dataset23,hour)+getdataTimestep(dataset24,hour)+getdataTimestep(dataset25,hour)+getdataTimestep(dataset26,hour)+getdataTimestep(dataset27,hour)+getdataTimestep(dataset28,hour)+getdataTimestep(dataset29,hour)+getdataTimestep(dataset30,hour)+getdataTimestep(dataset31,hour)+getdataTimestep(dataset32,hour)+getdataTimestep(dataset34,hour)+getdataTimestep(dataset35,hour)+getdataTimestep(dataset36,hour)+getdataTimestep(dataset37,hour)+getdataTimestep(dataset38,hour)+getdataTimestep(dataset39,hour)+getdataTimestep(dataset40,hour)+getdataTimestep(dataset41,hour)+getdataTimestep(dataset42,hour)+getdataTimestep(dataset43,hour)+getdataTimestep(dataset44,hour)+getdataTimestep(dataset45,hour)+getdataTimestep(dataset46,hour)+getdataTimestep(dataset47,hour)+getdataTimestep(dataset48,hour)\n",
    "x_train = np.array(x_train)\n",
    "y_train = to_categorical(outputtrain)\n",
    "print(len(x_train))\n",
    "print(len(outputtrain))"
   ]
  },
  {
   "cell_type": "markdown",
   "metadata": {},
   "source": [
    "# LSTM architecture"
   ]
  },
  {
   "cell_type": "code",
   "execution_count": 13,
   "metadata": {},
   "outputs": [],
   "source": [
    "data_dim = 6\n",
    "timesteps = 23\n",
    "\n",
    "model = Sequential()\n",
    "model.add(LSTM(32,input_shape=(timesteps,data_dim),return_sequences=True))#True = many to many\n",
    "model.add(LSTM(32, return_sequences=True))  # returns a sequence of vectors of dimension 32\n",
    "model.add(LSTM(32))\n",
    "model.add(Dropout(0.3))\n",
    "model.add(Dense(6,activation='softmax'))\n",
    "model.compile(optimizer='rmsprop',\n",
    "              loss='categorical_crossentropy',\n",
    "              metrics=['accuracy'])"
   ]
  },
  {
   "cell_type": "markdown",
   "metadata": {},
   "source": [
    "# Fit Model "
   ]
  },
  {
   "cell_type": "code",
   "execution_count": 14,
   "metadata": {},
   "outputs": [
    {
     "name": "stdout",
     "output_type": "stream",
     "text": [
      "_________________________________________________________________\n",
      "Layer (type)                 Output Shape              Param #   \n",
      "=================================================================\n",
      "lstm_1 (LSTM)                (None, 23, 32)            4992      \n",
      "_________________________________________________________________\n",
      "lstm_2 (LSTM)                (None, 23, 32)            8320      \n",
      "_________________________________________________________________\n",
      "lstm_3 (LSTM)                (None, 32)                8320      \n",
      "_________________________________________________________________\n",
      "dropout_1 (Dropout)          (None, 32)                0         \n",
      "_________________________________________________________________\n",
      "dense_1 (Dense)              (None, 6)                 198       \n",
      "=================================================================\n",
      "Total params: 21,830\n",
      "Trainable params: 21,830\n",
      "Non-trainable params: 0\n",
      "_________________________________________________________________\n",
      "Epoch 1/100\n",
      "33033/33033 [==============================] - 8s 242us/step - loss: 0.7994 - acc: 0.6988\n",
      "Epoch 2/100\n",
      "33033/33033 [==============================] - 7s 198us/step - loss: 0.4920 - acc: 0.8110\n",
      "Epoch 3/100\n",
      "33033/33033 [==============================] - 7s 200us/step - loss: 0.3842 - acc: 0.8501\n",
      "Epoch 4/100\n",
      "33033/33033 [==============================] - 6s 183us/step - loss: 0.3187 - acc: 0.8743\n",
      "Epoch 5/100\n",
      "33033/33033 [==============================] - 7s 213us/step - loss: 0.2709 - acc: 0.8935\n",
      "Epoch 6/100\n",
      "33033/33033 [==============================] - 7s 222us/step - loss: 0.2403 - acc: 0.9062\n",
      "Epoch 7/100\n",
      "33033/33033 [==============================] - 8s 235us/step - loss: 0.2220 - acc: 0.9120\n",
      "Epoch 8/100\n",
      "33033/33033 [==============================] - 8s 229us/step - loss: 0.2024 - acc: 0.9204\n",
      "Epoch 9/100\n",
      "33033/33033 [==============================] - 7s 199us/step - loss: 0.1902 - acc: 0.9240\n",
      "Epoch 10/100\n",
      "33033/33033 [==============================] - 8s 227us/step - loss: 0.1788 - acc: 0.9303\n",
      "Epoch 11/100\n",
      "33033/33033 [==============================] - 8s 229us/step - loss: 0.1717 - acc: 0.9323 0s - loss: 0.1717 - ac\n",
      "Epoch 12/100\n",
      "33033/33033 [==============================] - 6s 191us/step - loss: 0.1642 - acc: 0.9339\n",
      "Epoch 13/100\n",
      "33033/33033 [==============================] - 8s 233us/step - loss: 0.1605 - acc: 0.9349\n",
      "Epoch 14/100\n",
      "33033/33033 [==============================] - 7s 207us/step - loss: 0.1539 - acc: 0.9377\n",
      "Epoch 15/100\n",
      "33033/33033 [==============================] - 7s 201us/step - loss: 0.1467 - acc: 0.9424\n",
      "Epoch 16/100\n",
      "33033/33033 [==============================] - 6s 187us/step - loss: 0.1430 - acc: 0.9439\n",
      "Epoch 17/100\n",
      "33033/33033 [==============================] - 7s 211us/step - loss: 0.1403 - acc: 0.9440\n",
      "Epoch 18/100\n",
      "33033/33033 [==============================] - 7s 202us/step - loss: 0.1371 - acc: 0.9455\n",
      "Epoch 19/100\n",
      "33033/33033 [==============================] - 7s 201us/step - loss: 0.1317 - acc: 0.9468\n",
      "Epoch 20/100\n",
      "33033/33033 [==============================] - 6s 191us/step - loss: 0.1277 - acc: 0.9497\n",
      "Epoch 21/100\n",
      "33033/33033 [==============================] - 6s 190us/step - loss: 0.1256 - acc: 0.9484\n",
      "Epoch 22/100\n",
      "33033/33033 [==============================] - 6s 196us/step - loss: 0.1243 - acc: 0.9501\n",
      "Epoch 23/100\n",
      "33033/33033 [==============================] - 6s 190us/step - loss: 0.1210 - acc: 0.9517\n",
      "Epoch 24/100\n",
      "33033/33033 [==============================] - 6s 196us/step - loss: 0.1181 - acc: 0.9531\n",
      "Epoch 25/100\n",
      "33033/33033 [==============================] - 7s 199us/step - loss: 0.1174 - acc: 0.9534\n",
      "Epoch 26/100\n",
      "33033/33033 [==============================] - 6s 197us/step - loss: 0.1123 - acc: 0.9561\n",
      "Epoch 27/100\n",
      "33033/33033 [==============================] - 6s 194us/step - loss: 0.1147 - acc: 0.9541\n",
      "Epoch 28/100\n",
      "33033/33033 [==============================] - 7s 197us/step - loss: 0.1125 - acc: 0.9542\n",
      "Epoch 29/100\n",
      "33033/33033 [==============================] - 10s 301us/step - loss: 0.1088 - acc: 0.9564\n",
      "Epoch 30/100\n",
      "33033/33033 [==============================] - 110s 3ms/step - loss: 0.1100 - acc: 0.9566\n",
      "Epoch 31/100\n",
      "33033/33033 [==============================] - 9s 276us/step - loss: 0.1075 - acc: 0.9579 1s - loss: \n",
      "Epoch 32/100\n",
      "33033/33033 [==============================] - 10s 314us/step - loss: 0.1061 - acc: 0.95770s - loss: 0.1059 - \n",
      "Epoch 33/100\n",
      "33033/33033 [==============================] - 9s 266us/step - loss: 0.1037 - acc: 0.9580\n",
      "Epoch 34/100\n",
      "33033/33033 [==============================] - 8s 233us/step - loss: 0.1015 - acc: 0.9599\n",
      "Epoch 35/100\n",
      "33033/33033 [==============================] - 7s 205us/step - loss: 0.1015 - acc: 0.9601\n",
      "Epoch 36/100\n",
      "33033/33033 [==============================] - 7s 204us/step - loss: 0.1015 - acc: 0.9592\n",
      "Epoch 37/100\n",
      "33033/33033 [==============================] - 8s 231us/step - loss: 0.0987 - acc: 0.9607\n",
      "Epoch 38/100\n",
      "33033/33033 [==============================] - 8s 254us/step - loss: 0.0977 - acc: 0.9609\n",
      "Epoch 39/100\n",
      "33033/33033 [==============================] - 7s 209us/step - loss: 0.0962 - acc: 0.9622\n",
      "Epoch 40/100\n",
      "33033/33033 [==============================] - 7s 213us/step - loss: 0.0966 - acc: 0.9626\n",
      "Epoch 41/100\n",
      "33033/33033 [==============================] - 7s 208us/step - loss: 0.0953 - acc: 0.9625\n",
      "Epoch 42/100\n",
      "33033/33033 [==============================] - 8s 257us/step - loss: 0.0928 - acc: 0.9635\n",
      "Epoch 43/100\n",
      "33033/33033 [==============================] - 8s 256us/step - loss: 0.0934 - acc: 0.9632\n",
      "Epoch 44/100\n",
      "33033/33033 [==============================] - 9s 284us/step - loss: 0.0897 - acc: 0.9649\n",
      "Epoch 45/100\n",
      "33033/33033 [==============================] - 8s 256us/step - loss: 0.0874 - acc: 0.9648\n",
      "Epoch 46/100\n",
      "33033/33033 [==============================] - 9s 265us/step - loss: 0.0916 - acc: 0.9642\n",
      "Epoch 47/100\n",
      "33033/33033 [==============================] - 9s 264us/step - loss: 0.0882 - acc: 0.9644\n",
      "Epoch 48/100\n",
      "33033/33033 [==============================] - 9s 268us/step - loss: 0.0859 - acc: 0.9669\n",
      "Epoch 49/100\n",
      "33033/33033 [==============================] - 9s 266us/step - loss: 0.0859 - acc: 0.9662\n",
      "Epoch 50/100\n",
      "33033/33033 [==============================] - 9s 257us/step - loss: 0.0873 - acc: 0.9654\n",
      "Epoch 51/100\n",
      "33033/33033 [==============================] - 9s 258us/step - loss: 0.0860 - acc: 0.9663\n",
      "Epoch 52/100\n",
      "33033/33033 [==============================] - 9s 262us/step - loss: 0.0861 - acc: 0.9664\n",
      "Epoch 53/100\n",
      "33033/33033 [==============================] - 9s 263us/step - loss: 0.0828 - acc: 0.9676\n",
      "Epoch 54/100\n",
      "33033/33033 [==============================] - 8s 256us/step - loss: 0.0841 - acc: 0.9659\n",
      "Epoch 55/100\n",
      "33033/33033 [==============================] - 9s 259us/step - loss: 0.0847 - acc: 0.9674\n",
      "Epoch 56/100\n",
      "33033/33033 [==============================] - 8s 254us/step - loss: 0.0830 - acc: 0.9671\n",
      "Epoch 57/100\n",
      "33033/33033 [==============================] - 8s 257us/step - loss: 0.0812 - acc: 0.9678 0s - loss: 0.0818 - acc\n",
      "Epoch 58/100\n",
      "33033/33033 [==============================] - 8s 240us/step - loss: 0.0801 - acc: 0.9681\n",
      "Epoch 59/100\n",
      "33033/33033 [==============================] - 8s 248us/step - loss: 0.0818 - acc: 0.9687\n",
      "Epoch 60/100\n",
      "33033/33033 [==============================] - 8s 239us/step - loss: 0.0795 - acc: 0.9691TA: 1s - los\n",
      "Epoch 61/100\n",
      "33033/33033 [==============================] - 8s 254us/step - loss: 0.0790 - acc: 0.9695\n",
      "Epoch 62/100\n",
      "33033/33033 [==============================] - 8s 255us/step - loss: 0.0791 - acc: 0.9692\n",
      "Epoch 63/100\n",
      "33033/33033 [==============================] - 8s 255us/step - loss: 0.0772 - acc: 0.9708 1s - loss: 0.0767 - acc: 0.971 - ETA: 1s -\n",
      "Epoch 64/100\n",
      "33033/33033 [==============================] - 8s 248us/step - loss: 0.0763 - acc: 0.9704\n",
      "Epoch 65/100\n",
      "33033/33033 [==============================] - 8s 255us/step - loss: 0.0767 - acc: 0.9700\n",
      "Epoch 66/100\n",
      "33033/33033 [==============================] - 8s 245us/step - loss: 0.0743 - acc: 0.9706\n",
      "Epoch 67/100\n",
      "33033/33033 [==============================] - 8s 245us/step - loss: 0.0765 - acc: 0.9695 1\n",
      "Epoch 68/100\n",
      "33033/33033 [==============================] - 8s 244us/step - loss: 0.0736 - acc: 0.9709\n",
      "Epoch 69/100\n"
     ]
    },
    {
     "name": "stdout",
     "output_type": "stream",
     "text": [
      "33033/33033 [==============================] - 9s 288us/step - loss: 0.0748 - acc: 0.9706\n",
      "Epoch 70/100\n",
      "33033/33033 [==============================] - 10s 290us/step - loss: 0.0720 - acc: 0.9726\n",
      "Epoch 71/100\n",
      "33033/33033 [==============================] - 9s 281us/step - loss: 0.0721 - acc: 0.9707\n",
      "Epoch 72/100\n",
      "33033/33033 [==============================] - 9s 287us/step - loss: 0.0731 - acc: 0.9706\n",
      "Epoch 73/100\n",
      "33033/33033 [==============================] - 11s 332us/step - loss: 0.0728 - acc: 0.97230s - loss: 0.0733 - acc: 0.\n",
      "Epoch 74/100\n",
      "33033/33033 [==============================] - 10s 295us/step - loss: 0.0711 - acc: 0.9721\n",
      "Epoch 75/100\n",
      "33033/33033 [==============================] - 10s 298us/step - loss: 0.0702 - acc: 0.9727\n",
      "Epoch 76/100\n",
      "33033/33033 [==============================] - 10s 297us/step - loss: 0.0725 - acc: 0.9714\n",
      "Epoch 77/100\n",
      "33033/33033 [==============================] - 10s 300us/step - loss: 0.0691 - acc: 0.9731\n",
      "Epoch 78/100\n",
      "33033/33033 [==============================] - 10s 301us/step - loss: 0.0688 - acc: 0.9728\n",
      "Epoch 79/100\n",
      "33033/33033 [==============================] - 10s 303us/step - loss: 0.0693 - acc: 0.9730\n",
      "Epoch 80/100\n",
      "33033/33033 [==============================] - 10s 300us/step - loss: 0.0694 - acc: 0.9737\n",
      "Epoch 81/100\n",
      "33033/33033 [==============================] - 10s 301us/step - loss: 0.0664 - acc: 0.9732\n",
      "Epoch 82/100\n",
      "33033/33033 [==============================] - 10s 293us/step - loss: 0.0672 - acc: 0.9738\n",
      "Epoch 83/100\n",
      "33033/33033 [==============================] - 9s 277us/step - loss: 0.0655 - acc: 0.9747\n",
      "Epoch 84/100\n",
      "33033/33033 [==============================] - 9s 284us/step - loss: 0.0673 - acc: 0.9741\n",
      "Epoch 85/100\n",
      "33033/33033 [==============================] - 10s 293us/step - loss: 0.0677 - acc: 0.9738\n",
      "Epoch 86/100\n",
      "33033/33033 [==============================] - 10s 291us/step - loss: 0.0651 - acc: 0.9746\n",
      "Epoch 87/100\n",
      "33033/33033 [==============================] - 10s 294us/step - loss: 0.0653 - acc: 0.9760\n",
      "Epoch 88/100\n",
      "33033/33033 [==============================] - 10s 292us/step - loss: 0.0626 - acc: 0.9756\n",
      "Epoch 89/100\n",
      "33033/33033 [==============================] - 10s 289us/step - loss: 0.0628 - acc: 0.9755\n",
      "Epoch 90/100\n",
      "33033/33033 [==============================] - 10s 294us/step - loss: 0.0647 - acc: 0.9755\n",
      "Epoch 91/100\n",
      "33033/33033 [==============================] - 10s 292us/step - loss: 0.0622 - acc: 0.9757\n",
      "Epoch 92/100\n",
      "33033/33033 [==============================] - 10s 290us/step - loss: 0.0622 - acc: 0.9761\n",
      "Epoch 93/100\n",
      "33033/33033 [==============================] - 10s 292us/step - loss: 0.0647 - acc: 0.9749\n",
      "Epoch 94/100\n",
      "33033/33033 [==============================] - 10s 291us/step - loss: 0.0617 - acc: 0.9754\n",
      "Epoch 95/100\n",
      "33033/33033 [==============================] - 10s 290us/step - loss: 0.0612 - acc: 0.9764\n",
      "Epoch 96/100\n",
      "33033/33033 [==============================] - 9s 286us/step - loss: 0.0606 - acc: 0.9768\n",
      "Epoch 97/100\n",
      "33033/33033 [==============================] - 10s 292us/step - loss: 0.0602 - acc: 0.9764\n",
      "Epoch 98/100\n",
      "33033/33033 [==============================] - 9s 286us/step - loss: 0.0606 - acc: 0.9770\n",
      "Epoch 99/100\n",
      "33033/33033 [==============================] - 10s 288us/step - loss: 0.0606 - acc: 0.9771\n",
      "Epoch 100/100\n",
      "33033/33033 [==============================] - 10s 293us/step - loss: 0.0601 - acc: 0.9775\n",
      "33033/33033 [==============================] - 11s 341us/step\n",
      "\n",
      "acc: 97.41%\n"
     ]
    }
   ],
   "source": [
    "model.summary()\n",
    "model.fit(x_train,y_train,epochs=100,batch_size=256);\n",
    "scores = model.evaluate(x_train, y_train)\n",
    "print(\"\\n%s: %.2f%%\" % (model.metrics_names[1], scores[1]*100))"
   ]
  },
  {
   "cell_type": "markdown",
   "metadata": {},
   "source": [
    "# save model"
   ]
  },
  {
   "cell_type": "code",
   "execution_count": 15,
   "metadata": {},
   "outputs": [
    {
     "name": "stdout",
     "output_type": "stream",
     "text": [
      "\n",
      "acc: 97.41%\n"
     ]
    }
   ],
   "source": [
    "print(\"\\n%s: %.2f%%\" % (model.metrics_names[1], scores[1]*100))\n",
    "model.save('my.modelLSTM1.h5')"
   ]
  },
  {
   "cell_type": "markdown",
   "metadata": {},
   "source": [
    "# Measure Performance "
   ]
  },
  {
   "cell_type": "markdown",
   "metadata": {},
   "source": [
    "# Load model LSTM and model normalization"
   ]
  },
  {
   "cell_type": "code",
   "execution_count": 16,
   "metadata": {},
   "outputs": [],
   "source": [
    "model1 = load_model('my.modelLSTM1.h5')\n",
    "scaler = joblib.load('model_norm1hr.pkl')"
   ]
  },
  {
   "cell_type": "markdown",
   "metadata": {},
   "source": [
    "# read data test and output test"
   ]
  },
  {
   "cell_type": "code",
   "execution_count": 17,
   "metadata": {},
   "outputs": [],
   "source": [
    "outputtest1 = genfromtxt('dataset/outputYtest1.csv',delimiter=',')\n",
    "outputtest2 = genfromtxt('dataset/outputYtest2.csv',delimiter=',')\n",
    "datatest1 = genfromtxt('dataset/datatest1.csv',delimiter=',')\n",
    "datatest2 = genfromtxt('dataset/datatest2.csv',delimiter=',')"
   ]
  },
  {
   "cell_type": "markdown",
   "metadata": {},
   "source": [
    "# normalization data test"
   ]
  },
  {
   "cell_type": "code",
   "execution_count": 18,
   "metadata": {},
   "outputs": [],
   "source": [
    "datatest1 = scaler.transform(datatest1)\n",
    "datatest2 = scaler.transform(datatest2)"
   ]
  },
  {
   "cell_type": "markdown",
   "metadata": {},
   "source": [
    "# function measure performance model"
   ]
  },
  {
   "cell_type": "code",
   "execution_count": 19,
   "metadata": {},
   "outputs": [],
   "source": [
    "def prediction(datatest,output):\n",
    "    datax=[]\n",
    "    for x in range(0,len(datatest)-23):\n",
    "        datax.append(datatest[0+x:23+x,:])\n",
    "    predict=[]\n",
    "    for x in range(len(datax)):\n",
    "        test1=[]\n",
    "        test=[]\n",
    "        test1.append(datax[x])\n",
    "        test.append(test1)\n",
    "        predict.append(model1.predict_classes(test))\n",
    "    print(\"Accuracy = \",accuracy_score(predict,output))\n",
    "    print(\"confusion matrix\")\n",
    "    print(confusion_matrix(output, predict, labels=[1, 2, 3,4,5]))"
   ]
  },
  {
   "cell_type": "markdown",
   "metadata": {},
   "source": [
    "# predicted datatest"
   ]
  },
  {
   "cell_type": "code",
   "execution_count": 22,
   "metadata": {},
   "outputs": [
    {
     "name": "stdout",
     "output_type": "stream",
     "text": [
      "Accuracy =  0.924812030075188\n",
      "confusion matrix\n",
      "[[111   8   0   0   0]\n",
      " [ 13 435   0   0   0]\n",
      " [  0  24  48   0   0]\n",
      " [  0   0   0  21   5]\n",
      " [  0   0   0   0   0]]\n",
      "Accuracy =  0.9743918053777209\n",
      "confusion matrix\n",
      "[[678  15   0   0   0]\n",
      " [  2  83   0   0   0]\n",
      " [  0   3   0   0   0]\n",
      " [  0   0   0   0   0]\n",
      " [  0   0   0   0   0]]\n"
     ]
    }
   ],
   "source": [
    "prediction(datatest1,outputtest1)\n",
    "prediction(datatest2,outputtest2)"
   ]
  },
  {
   "cell_type": "code",
   "execution_count": null,
   "metadata": {},
   "outputs": [],
   "source": []
  }
 ],
 "metadata": {
  "kernelspec": {
   "display_name": "Python 3",
   "language": "python",
   "name": "python3"
  },
  "language_info": {
   "codemirror_mode": {
    "name": "ipython",
    "version": 3
   },
   "file_extension": ".py",
   "mimetype": "text/x-python",
   "name": "python",
   "nbconvert_exporter": "python",
   "pygments_lexer": "ipython3",
   "version": "3.6.7"
  }
 },
 "nbformat": 4,
 "nbformat_minor": 2
}
