{
 "cells": [
  {
   "cell_type": "code",
   "execution_count": null,
   "metadata": {},
   "outputs": [
    {
     "name": "stderr",
     "output_type": "stream",
     "text": [
      "Using TensorFlow backend.\n"
     ]
    }
   ],
   "source": [
    "from numpy import genfromtxt\n",
    "import numpy as np\n",
    "from sklearn.externals import joblib\n",
    "from keras.models import load_model\n",
    "from sklearn.metrics import accuracy_score"
   ]
  },
  {
   "cell_type": "code",
   "execution_count": null,
   "metadata": {},
   "outputs": [],
   "source": [
    "outputtest33 = genfromtxt('3output33.csv',delimiter=',')\n",
    "outputtest = genfromtxt('outputYtest.csv',delimiter=',')\n",
    "outputtest1 = genfromtxt('outputYtest1.csv',delimiter=',')\n",
    "outputtest2 = genfromtxt('outputYtest2.csv',delimiter=',')\n",
    "outputtest3 = genfromtxt('outputYtest3.csv',delimiter=',')\n",
    "test1hr33 = genfromtxt('dataset33.csv',delimiter=',')\n",
    "test1hr = genfromtxt('datatest.csv',delimiter=',')\n",
    "test1hr1 = genfromtxt('datatest1.csv',delimiter=',')\n",
    "test1hr2 = genfromtxt('datatest2.csv',delimiter=',')\n",
    "test1hr3 = genfromtxt('datatest3.csv',delimiter=',')\n",
    "model1 = load_model('my.3levelmodelLSTM1.h5')\n",
    "scaler = joblib.load('my_dope_model1hr3level.pkl')\n",
    "test1hr33 = scaler.transform(test1hr33)\n",
    "test1hr = scaler.transform(test1hr)\n",
    "test1hr1 = scaler.transform(test1hr1)\n",
    "test1hr2 = scaler.transform(test1hr2)\n",
    "test1hr3 = scaler.transform(test1hr3)\n",
    "test1hr3"
   ]
  },
  {
   "cell_type": "code",
   "execution_count": null,
   "metadata": {},
   "outputs": [],
   "source": [
    "datax=[]\n",
    "for x in range(0,len(test1hr3)-23):\n",
    "    datax.append(test1hr3[15+x:23+x,:])\n",
    "print(len(datax),len(outputtest3))"
   ]
  },
  {
   "cell_type": "code",
   "execution_count": null,
   "metadata": {},
   "outputs": [],
   "source": [
    "predict=[]\n",
    "for x in range(len(datax)):\n",
    "    test1=[]\n",
    "    test=[]\n",
    "    test1.append(datax[x])\n",
    "    test.append(test1)\n",
    "    predict.append(model1.predict_classes(test))"
   ]
  },
  {
   "cell_type": "code",
   "execution_count": null,
   "metadata": {},
   "outputs": [],
   "source": [
    "for i in range(len(predict)):\n",
    "    print(predict[i],outputtest3[i])\n",
    "print(accuracy_score(predict,outputtest3))"
   ]
  },
  {
   "cell_type": "code",
   "execution_count": null,
   "metadata": {},
   "outputs": [],
   "source": []
  }
 ],
 "metadata": {
  "kernelspec": {
   "display_name": "Python 3",
   "language": "python",
   "name": "python3"
  },
  "language_info": {
   "codemirror_mode": {
    "name": "ipython",
    "version": 3
   },
   "file_extension": ".py",
   "mimetype": "text/x-python",
   "name": "python",
   "nbconvert_exporter": "python",
   "pygments_lexer": "ipython3",
   "version": "3.6.7"
  }
 },
 "nbformat": 4,
 "nbformat_minor": 2
}
