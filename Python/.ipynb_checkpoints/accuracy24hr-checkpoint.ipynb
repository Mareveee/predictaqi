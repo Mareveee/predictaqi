{
 "cells": [
  {
   "cell_type": "code",
   "execution_count": 1,
   "metadata": {},
   "outputs": [
    {
     "name": "stderr",
     "output_type": "stream",
     "text": [
      "Using TensorFlow backend.\n"
     ]
    }
   ],
   "source": [
    "from numpy import genfromtxt\n",
    "import numpy as np\n",
    "from sklearn.externals import joblib\n",
    "from keras.models import load_model\n",
    "from sklearn.metrics import accuracy_score\n",
    "from sklearn.metrics import precision_score\n",
    "from sklearn.metrics import recall_score\n",
    "from sklearn.metrics import precision_recall_fscore_support\n",
    "from sklearn.metrics import confusion_matrix"
   ]
  },
  {
   "cell_type": "code",
   "execution_count": 2,
   "metadata": {},
   "outputs": [],
   "source": [
    "scaler = joblib.load('my_dope_model24hr5level.pkl')\n",
    "model24 = load_model('my.modelLSTM24hr.h5')"
   ]
  },
  {
   "cell_type": "code",
   "execution_count": 8,
   "metadata": {},
   "outputs": [],
   "source": [
    "outputtest5 = genfromtxt('5outputYtest5.csv',delimiter=',')\n",
    "outputtest44 = genfromtxt('5outputYtest44.csv',delimiter=',')\n",
    "outputtest45 = genfromtxt('5outputYtest45.csv',delimiter=',')\n",
    "outputtest46 = genfromtxt('5outputYtest46.csv',delimiter=',')\n",
    "test1hr5 = genfromtxt('datatest5.csv',delimiter=',')\n",
    "test1hr44 = genfromtxt('datatest44.csv',delimiter=',')\n",
    "test1hr45 = genfromtxt('datatest45.csv',delimiter=',')\n",
    "test1hr46 = genfromtxt('datatest46.csv',delimiter=',')"
   ]
  },
  {
   "cell_type": "code",
   "execution_count": 9,
   "metadata": {},
   "outputs": [],
   "source": [
    "test1hr5 = scaler.transform(test1hr5)\n",
    "test1hr44 = scaler.transform(test1hr44)\n",
    "test1hr45 = scaler.transform(test1hr45)\n",
    "test1hr46 = scaler.transform(test1hr46)"
   ]
  },
  {
   "cell_type": "code",
   "execution_count": 11,
   "metadata": {},
   "outputs": [],
   "source": [
    "def prediction(datatest,output):\n",
    "    newoutput=[]\n",
    "    datax=[]\n",
    "    data1 = datatest[0:len(datatest)-23,:]\n",
    "    for x in range(len(output)-24):\n",
    "        newoutput.append(output[24+x])\n",
    "    for x in range(len(data1)-24):\n",
    "        datax.append(data1[0+x:24+x,:])\n",
    "    predict=[]\n",
    "    for x in range(len(datax)):\n",
    "        test24=[]\n",
    "        test=[]\n",
    "        test24.append(datax[x])\n",
    "        test.append(test24)\n",
    "        predict.append(model24.predict_classes(test))\n",
    "    print(accuracy_score(predict,newoutput))\n",
    "    print(precision_score(predict,newoutput, average='macro') )\n",
    "    print(recall_score(predict,newoutput, average='macro') )\n",
    "    print(precision_recall_fscore_support(predict, newoutput, average='macro'))\n",
    "    print(confusion_matrix(newoutput, predict, labels=[1, 2, 3,4,5]))"
   ]
  },
  {
   "cell_type": "code",
   "execution_count": 12,
   "metadata": {},
   "outputs": [
    {
     "name": "stdout",
     "output_type": "stream",
     "text": [
      "0.8112324492979719\n",
      "0.7787808449651047\n",
      "0.8493899634864612\n",
      "(0.7787808449651047, 0.8493899634864612, 0.7732316227461858, None)\n",
      "[[110   9   0   0   0]\n",
      " [ 72 374   2   0   0]\n",
      " [  8  30  21   0   0]\n",
      " [  0   0   0  15   0]\n",
      " [  0   0   0   0   0]]\n"
     ]
    }
   ],
   "source": [
    "prediction(test1hr5,outputtest5)"
   ]
  },
  {
   "cell_type": "code",
   "execution_count": 13,
   "metadata": {},
   "outputs": [
    {
     "name": "stdout",
     "output_type": "stream",
     "text": [
      "0.9667616334283001\n",
      "0.9559430932501596\n",
      "0.9537031899461177\n",
      "(0.9559430932501596, 0.9537031899461177, 0.9545144918794513, None)\n",
      "[[  0   0   0   0   0]\n",
      " [  0  36   3   0   0]\n",
      " [  0   3 243   5   0]\n",
      " [  0   1   3 416   1]\n",
      " [  0   0   2  17 323]]\n"
     ]
    }
   ],
   "source": [
    "prediction(test1hr46,outputtest46)"
   ]
  },
  {
   "cell_type": "code",
   "execution_count": null,
   "metadata": {},
   "outputs": [],
   "source": []
  },
  {
   "cell_type": "code",
   "execution_count": null,
   "metadata": {},
   "outputs": [],
   "source": []
  }
 ],
 "metadata": {
  "kernelspec": {
   "display_name": "Python 3",
   "language": "python",
   "name": "python3"
  },
  "language_info": {
   "codemirror_mode": {
    "name": "ipython",
    "version": 3
   },
   "file_extension": ".py",
   "mimetype": "text/x-python",
   "name": "python",
   "nbconvert_exporter": "python",
   "pygments_lexer": "ipython3",
   "version": "3.6.7"
  }
 },
 "nbformat": 4,
 "nbformat_minor": 2
}
