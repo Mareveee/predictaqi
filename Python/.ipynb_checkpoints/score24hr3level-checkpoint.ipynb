{
 "cells": [
  {
   "cell_type": "code",
   "execution_count": 1,
   "metadata": {},
   "outputs": [
    {
     "name": "stderr",
     "output_type": "stream",
     "text": [
      "Using TensorFlow backend.\n"
     ]
    }
   ],
   "source": [
    "from numpy import genfromtxt\n",
    "import numpy as np\n",
    "from sklearn.externals import joblib\n",
    "from keras.models import load_model\n",
    "from sklearn.metrics import accuracy_score\n",
    "from sklearn.metrics import precision_score"
   ]
  },
  {
   "cell_type": "code",
   "execution_count": 2,
   "metadata": {},
   "outputs": [],
   "source": [
    "scaler = joblib.load('my_dope_model24hr3level.pkl')\n",
    "model24 = load_model('my.modelLSTM24hr3level.h5')"
   ]
  },
  {
   "cell_type": "code",
   "execution_count": 24,
   "metadata": {},
   "outputs": [],
   "source": [
    "outputtest33 = genfromtxt('3output33.csv',delimiter=',')\n",
    "outputtest = genfromtxt('outputYtest.csv',delimiter=',')\n",
    "outputtest1 = genfromtxt('outputYtest1.csv',delimiter=',')\n",
    "outputtest2 = genfromtxt('outputYtest2.csv',delimiter=',')\n",
    "outputtest3 = genfromtxt('outputYtest3.csv',delimiter=',')\n",
    "test1hr33 = genfromtxt('dataset33.csv',delimiter=',')\n",
    "test1hr = genfromtxt('datatest.csv',delimiter=',')\n",
    "test1hr1 = genfromtxt('datatest1.csv',delimiter=',')\n",
    "test1hr2 = genfromtxt('datatest2.csv',delimiter=',')\n",
    "test1hr3 = genfromtxt('datatest3.csv',delimiter=',')"
   ]
  },
  {
   "cell_type": "code",
   "execution_count": 25,
   "metadata": {},
   "outputs": [],
   "source": [
    "test1hr33 = scaler.transform(test1hr33)\n",
    "test1hr = scaler.transform(test1hr)\n",
    "test1hr1 = scaler.transform(test1hr1)\n",
    "test1hr2 = scaler.transform(test1hr2)\n",
    "test1hr3 = scaler.transform(test1hr3)"
   ]
  },
  {
   "cell_type": "code",
   "execution_count": 26,
   "metadata": {},
   "outputs": [],
   "source": [
    "def prediction(datatest,output):\n",
    "    datax=[]\n",
    "    data1 = datatest[0:len(datatest)-24,:]\n",
    "    for x in range(len(data1)-19):\n",
    "        datax.append(data1[0+x:20+x,:])\n",
    "    predict=[]\n",
    "    for x in range(len(datax)):\n",
    "        test24=[]\n",
    "        test=[]\n",
    "        test24.append(datax[x])\n",
    "        test.append(test24)\n",
    "        predict.append(model24.predict_classes(test))\n",
    "    newoutput=[]\n",
    "    for x in range(len(output)-20):\n",
    "        newoutput.append(output[20+x])\n",
    "    print(accuracy_score(predict,newoutput))"
   ]
  },
  {
   "cell_type": "code",
   "execution_count": 28,
   "metadata": {},
   "outputs": [
    {
     "name": "stdout",
     "output_type": "stream",
     "text": [
      "0.9020979020979021\n"
     ]
    }
   ],
   "source": [
    "prediction(test1hr,outputtest)"
   ]
  },
  {
   "cell_type": "code",
   "execution_count": 27,
   "metadata": {},
   "outputs": [
    {
     "name": "stdout",
     "output_type": "stream",
     "text": [
      "0.8146853146853147\n"
     ]
    }
   ],
   "source": [
    "prediction(test1hr1,outputtest1)"
   ]
  },
  {
   "cell_type": "code",
   "execution_count": 29,
   "metadata": {},
   "outputs": [
    {
     "name": "stdout",
     "output_type": "stream",
     "text": [
      "0.9072948328267477\n"
     ]
    }
   ],
   "source": [
    "prediction(test1hr2,outputtest2)"
   ]
  },
  {
   "cell_type": "code",
   "execution_count": 30,
   "metadata": {},
   "outputs": [
    {
     "name": "stdout",
     "output_type": "stream",
     "text": [
      "0.6464646464646465\n"
     ]
    }
   ],
   "source": [
    "prediction(test1hr3,outputtest3)"
   ]
  },
  {
   "cell_type": "code",
   "execution_count": 31,
   "metadata": {},
   "outputs": [
    {
     "name": "stdout",
     "output_type": "stream",
     "text": [
      "0.6273291925465838\n"
     ]
    }
   ],
   "source": [
    "prediction(test1hr33,outputtest33)"
   ]
  },
  {
   "cell_type": "code",
   "execution_count": null,
   "metadata": {},
   "outputs": [],
   "source": []
  }
 ],
 "metadata": {
  "kernelspec": {
   "display_name": "Python 3",
   "language": "python",
   "name": "python3"
  },
  "language_info": {
   "codemirror_mode": {
    "name": "ipython",
    "version": 3
   },
   "file_extension": ".py",
   "mimetype": "text/x-python",
   "name": "python",
   "nbconvert_exporter": "python",
   "pygments_lexer": "ipython3",
   "version": "3.6.7"
  }
 },
 "nbformat": 4,
 "nbformat_minor": 2
}
