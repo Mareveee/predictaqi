{
 "cells": [
  {
   "cell_type": "markdown",
   "metadata": {},
   "source": [
    "# Import Library"
   ]
  },
  {
   "cell_type": "code",
   "execution_count": 11,
   "metadata": {},
   "outputs": [],
   "source": [
    "from keras.models import Sequential\n",
    "from keras.layers import Dense,Dropout,LSTM\n",
    "from keras import optimizers\n",
    "from numpy import genfromtxt\n",
    "import numpy as np\n",
    "from keras.utils import to_categorical\n",
    "from sklearn.preprocessing import StandardScaler\n",
    "from sklearn.externals import joblib\n",
    "from keras.models import load_model\n",
    "from sklearn.metrics import accuracy_score\n",
    "from sklearn.metrics import confusion_matrix"
   ]
  },
  {
   "cell_type": "markdown",
   "metadata": {},
   "source": [
    "# read dataset and output"
   ]
  },
  {
   "cell_type": "code",
   "execution_count": 3,
   "metadata": {},
   "outputs": [],
   "source": [
    "dataset = genfromtxt('dataset/dataset.csv',delimiter=',')\n",
    "dataset1 = genfromtxt('dataset/dataset1.csv',delimiter=',')\n",
    "dataset2 = genfromtxt('dataset/dataset2.csv',delimiter=',')\n",
    "dataset3 = genfromtxt('dataset/dataset3.csv',delimiter=',')\n",
    "dataset4 = genfromtxt('dataset/dataset4.csv',delimiter=',')\n",
    "dataset5 = genfromtxt('dataset/dataset5.csv',delimiter=',')\n",
    "dataset6 = genfromtxt('dataset/dataset6.csv',delimiter=',')\n",
    "dataset7 = genfromtxt('dataset/dataset7.csv',delimiter=',')\n",
    "dataset8 = genfromtxt('dataset/dataset8.csv',delimiter=',')\n",
    "dataset9 = genfromtxt('dataset/dataset9.csv',delimiter=',')\n",
    "dataset10 = genfromtxt('dataset/dataset10.csv',delimiter=',')\n",
    "dataset11 = genfromtxt('dataset/dataset11.csv',delimiter=',')\n",
    "dataset12 = genfromtxt('dataset/dataset12.csv',delimiter=',')\n",
    "dataset13 = genfromtxt('dataset/dataset13.csv',delimiter=',')\n",
    "dataset14 = genfromtxt('dataset/dataset14.csv',delimiter=',')\n",
    "dataset15 = genfromtxt('dataset/dataset15.csv',delimiter=',')\n",
    "dataset16 = genfromtxt('dataset/dataset16.csv',delimiter=',')\n",
    "dataset17 = genfromtxt('dataset/dataset17.csv',delimiter=',')\n",
    "dataset18 = genfromtxt('dataset/dataset18.csv',delimiter=',')\n",
    "dataset19 = genfromtxt('dataset/dataset19.csv',delimiter=',')\n",
    "dataset20 = genfromtxt('dataset/dataset20.csv',delimiter=',')\n",
    "dataset21 = genfromtxt('dataset/dataset21.csv',delimiter=',')\n",
    "dataset22 = genfromtxt('dataset/dataset22.csv',delimiter=',')\n",
    "dataset23 = genfromtxt('dataset/dataset23.csv',delimiter=',')\n",
    "dataset24 = genfromtxt('dataset/dataset24.csv',delimiter=',')\n",
    "dataset25 = genfromtxt('dataset/dataset25.csv',delimiter=',')\n",
    "dataset26 = genfromtxt('dataset/dataset26.csv',delimiter=',')\n",
    "dataset27 = genfromtxt('dataset/dataset27.csv',delimiter=',')\n",
    "dataset28 = genfromtxt('dataset/dataset28.csv',delimiter=',')\n",
    "dataset29 = genfromtxt('dataset/dataset29.csv',delimiter=',')\n",
    "dataset30 = genfromtxt('dataset/dataset30.csv',delimiter=',')\n",
    "dataset31 = genfromtxt('dataset/dataset31.csv',delimiter=',')\n",
    "dataset32 = genfromtxt('dataset/dataset32.csv',delimiter=',')\n",
    "dataset33 = genfromtxt('dataset/dataset33.csv',delimiter=',')\n",
    "dataset34 = genfromtxt('dataset/dataset34.csv',delimiter=',')\n",
    "dataset35 = genfromtxt('dataset/dataset35.csv',delimiter=',')\n",
    "dataset36 = genfromtxt('dataset/dataset36.csv',delimiter=',')\n",
    "dataset37 = genfromtxt('dataset/dataset37.csv',delimiter=',')\n",
    "dataset38 = genfromtxt('dataset/dataset38.csv',delimiter=',')\n",
    "dataset39 = genfromtxt('dataset/dataset39.csv',delimiter=',')\n",
    "dataset40 = genfromtxt('dataset/dataset40.csv',delimiter=',')\n",
    "dataset41 = genfromtxt('dataset/dataset41.csv',delimiter=',')\n",
    "dataset42 = genfromtxt('dataset/dataset42.csv',delimiter=',')\n",
    "dataset43 = genfromtxt('dataset/dataset43.csv',delimiter=',')\n",
    "dataset44 = genfromtxt('dataset/dataset44.csv',delimiter=',')\n",
    "dataset45 = genfromtxt('dataset/dataset45.csv',delimiter=',')\n",
    "dataset46 = genfromtxt('dataset/dataset46.csv',delimiter=',')\n",
    "dataset47 = genfromtxt('dataset/dataset47.csv',delimiter=',')\n",
    "dataset48 = genfromtxt('dataset/dataset48.csv',delimiter=',')\n",
    "dataset49 = genfromtxt('dataset/dataset49.csv',delimiter=',')\n",
    "dataset50 = genfromtxt('dataset/dataset50.csv',delimiter=',')\n",
    "dataset51 = genfromtxt('dataset/dataset51.csv',delimiter=',')\n",
    "dataset52 = genfromtxt('dataset/dataset52.csv',delimiter=',')\n",
    "dataset53 = genfromtxt('dataset/dataset53.csv',delimiter=',')\n",
    "dataset54 = genfromtxt('dataset/dataset54.csv',delimiter=',')\n",
    "dataset55 = genfromtxt('dataset/dataset55.csv',delimiter=',')\n",
    "dataset56 = genfromtxt('dataset/dataset56.csv',delimiter=',')\n",
    "dataset57 = genfromtxt('dataset/dataset57.csv',delimiter=',')\n",
    "dataset58 = genfromtxt('dataset/dataset58.csv',delimiter=',')\n",
    "dataset59 = genfromtxt('dataset/dataset59.csv',delimiter=',')\n",
    "dataset60 = genfromtxt('dataset/dataset60.csv',delimiter=',')\n",
    "dataset61 = genfromtxt('dataset/dataset61.csv',delimiter=',')\n",
    "dataset62 = genfromtxt('dataset/dataset62.csv',delimiter=',')\n",
    "dataset63 = genfromtxt('dataset/dataset63.csv',delimiter=',')\n",
    "dataset64 = genfromtxt('dataset/dataset64.csv',delimiter=',')\n",
    "dataset65 = genfromtxt('dataset/dataset65.csv',delimiter=',')\n",
    "dataset66 = genfromtxt('dataset/dataset66.csv',delimiter=',')\n",
    "dataset67 = genfromtxt('dataset/dataset67.csv',delimiter=',')\n",
    "dataset68 = genfromtxt('dataset/dataset68.csv',delimiter=',')\n",
    "dataset69 = genfromtxt('dataset/dataset69.csv',delimiter=',')\n",
    "dataset70 = genfromtxt('dataset/dataset70.csv',delimiter=',')\n",
    "dataset71 = genfromtxt('dataset/dataset71.csv',delimiter=',')\n",
    "dataset72 = genfromtxt('dataset/dataset72.csv',delimiter=',')\n",
    "dataset73 = genfromtxt('dataset/dataset73.csv',delimiter=',')\n",
    "dataset74 = genfromtxt('dataset/dataset74.csv',delimiter=',')\n",
    "dataset75 = genfromtxt('dataset/dataset75.csv',delimiter=',')\n",
    "dataset76 = genfromtxt('dataset/dataset76.csv',delimiter=',')\n",
    "dataset77 = genfromtxt('dataset/dataset77.csv',delimiter=',')\n",
    "dataset78 = genfromtxt('dataset/dataset78.csv',delimiter=',')\n",
    "dataset79 = genfromtxt('dataset/dataset79.csv',delimiter=',')\n",
    "dataset80 = genfromtxt('dataset/dataset80.csv',delimiter=',')\n",
    "dataset81 = genfromtxt('dataset/dataset81.csv',delimiter=',')\n",
    "dataset82 = genfromtxt('dataset/dataset82.csv',delimiter=',')\n",
    "dataset83 = genfromtxt('dataset/dataset83.csv',delimiter=',')\n",
    "dataset84 = genfromtxt('dataset/dataset84.csv',delimiter=',')\n",
    "dataset85 = genfromtxt('dataset/dataset85.csv',delimiter=',')\n",
    "dataset86 = genfromtxt('dataset/dataset86.csv',delimiter=',')\n",
    "dataset87 = genfromtxt('dataset/dataset87.csv',delimiter=',')\n",
    "dataset88 = genfromtxt('dataset/dataset88.csv',delimiter=',')\n",
    "dataset89 = genfromtxt('dataset/dataset89.csv',delimiter=',')\n",
    "dataset90 = genfromtxt('dataset/dataset90.csv',delimiter=',')\n",
    "dataset91 = genfromtxt('dataset/dataset91.csv',delimiter=',')\n",
    "dataset92 = genfromtxt('dataset/dataset92.csv',delimiter=',')\n",
    "dataset93 = genfromtxt('dataset/dataset93.csv',delimiter=',')\n",
    "dataset94 = genfromtxt('dataset/dataset94.csv',delimiter=',')\n",
    "dataset95 = genfromtxt('dataset/dataset95.csv',delimiter=',')\n",
    "\n",
    "outputtrain = genfromtxt('dataset/outputtrain24hr.csv',delimiter=',')"
   ]
  },
  {
   "cell_type": "markdown",
   "metadata": {},
   "source": [
    "# Normalization"
   ]
  },
  {
   "cell_type": "code",
   "execution_count": 4,
   "metadata": {},
   "outputs": [],
   "source": [
    "datanorm = np.concatenate((dataset,dataset1,dataset2,dataset3,dataset4,dataset5,dataset6,dataset7,dataset8,dataset9,dataset10,\n",
    "                                          dataset11,dataset12,dataset13,dataset14,dataset15,dataset16,dataset17,dataset18,dataset19,dataset20,\n",
    "                                          dataset21,dataset22,dataset23,dataset24,dataset25,dataset26,dataset27,dataset28,dataset29,dataset30,dataset31,dataset32,\n",
    "                                           dataset33,dataset34,dataset35,dataset36,dataset37,dataset38,dataset39,dataset40,\n",
    "                                          dataset41,dataset42,dataset43,dataset44,dataset45,dataset46,dataset47,dataset48,dataset49,dataset50,\n",
    "                                          dataset51,dataset52,dataset53,dataset54,dataset55,dataset56,dataset57,dataset58,dataset59,dataset60,\n",
    "                                          dataset61,dataset62,dataset63,dataset64,dataset65,dataset66,dataset67,dataset68,dataset69,dataset70,\n",
    "                                          dataset71,dataset72,dataset73,dataset74,dataset75,dataset76,dataset77,dataset78,dataset79,dataset80,\n",
    "                                          dataset81,dataset82,dataset83,dataset84,dataset85,dataset86,dataset87,dataset88,dataset89,dataset90,\n",
    "                                          dataset91,dataset92,dataset93,dataset94,dataset95))\n",
    "scaler = StandardScaler()\n",
    "scaler.fit(datanorm)\n",
    "dataset = scaler.transform(dataset)\n",
    "dataset1 = scaler.transform(dataset1)\n",
    "dataset2 = scaler.transform(dataset2)\n",
    "dataset3 = scaler.transform(dataset3)\n",
    "dataset4 = scaler.transform(dataset4)\n",
    "dataset5 = scaler.transform(dataset5)\n",
    "dataset6 = scaler.transform(dataset6)\n",
    "dataset7 = scaler.transform(dataset7)\n",
    "dataset8 = scaler.transform(dataset8)\n",
    "dataset9 = scaler.transform(dataset9)\n",
    "dataset10 = scaler.transform(dataset10)\n",
    "dataset11 = scaler.transform(dataset11)\n",
    "dataset12 = scaler.transform(dataset12)\n",
    "dataset13 = scaler.transform(dataset13)\n",
    "dataset14 = scaler.transform(dataset14)\n",
    "dataset15 = scaler.transform(dataset15)\n",
    "dataset16 = scaler.transform(dataset16)\n",
    "dataset17 = scaler.transform(dataset17)\n",
    "dataset18 = scaler.transform(dataset18)\n",
    "dataset19 = scaler.transform(dataset19)\n",
    "dataset20 = scaler.transform(dataset20)\n",
    "dataset21 = scaler.transform(dataset21)\n",
    "dataset22 = scaler.transform(dataset22)\n",
    "dataset23 = scaler.transform(dataset23)\n",
    "dataset24 = scaler.transform(dataset24)\n",
    "dataset25 = scaler.transform(dataset25)\n",
    "dataset26 = scaler.transform(dataset26)\n",
    "dataset27 = scaler.transform(dataset27)\n",
    "dataset28 = scaler.transform(dataset28)\n",
    "dataset29 = scaler.transform(dataset29)\n",
    "dataset30 = scaler.transform(dataset30)\n",
    "dataset31 = scaler.transform(dataset31)\n",
    "dataset32 = scaler.transform(dataset32)\n",
    "dataset33 = scaler.transform(dataset33)\n",
    "dataset34 = scaler.transform(dataset34)\n",
    "dataset35 = scaler.transform(dataset35)\n",
    "dataset36 = scaler.transform(dataset36)\n",
    "dataset37 = scaler.transform(dataset37)\n",
    "dataset38 = scaler.transform(dataset38)\n",
    "dataset39 = scaler.transform(dataset39)\n",
    "dataset40 = scaler.transform(dataset40)\n",
    "dataset41 = scaler.transform(dataset41)\n",
    "dataset42 = scaler.transform(dataset42)\n",
    "dataset43 = scaler.transform(dataset43)\n",
    "dataset44 = scaler.transform(dataset44)\n",
    "dataset45 = scaler.transform(dataset45)\n",
    "dataset46 = scaler.transform(dataset46)\n",
    "dataset47 = scaler.transform(dataset47)\n",
    "dataset48 = scaler.transform(dataset48)\n",
    "dataset49 = scaler.transform(dataset49)\n",
    "dataset50 = scaler.transform(dataset50)\n",
    "dataset51 = scaler.transform(dataset51)\n",
    "dataset52 = scaler.transform(dataset52)\n",
    "dataset53 = scaler.transform(dataset53)\n",
    "dataset54 = scaler.transform(dataset54)\n",
    "dataset55 = scaler.transform(dataset55)\n",
    "dataset56 = scaler.transform(dataset56)\n",
    "dataset57 = scaler.transform(dataset57)\n",
    "dataset58 = scaler.transform(dataset58)\n",
    "dataset59 = scaler.transform(dataset59)\n",
    "dataset60 = scaler.transform(dataset60)\n",
    "dataset61 = scaler.transform(dataset61)\n",
    "dataset62 = scaler.transform(dataset62)\n",
    "dataset63 = scaler.transform(dataset63)\n",
    "dataset64 = scaler.transform(dataset64)\n",
    "dataset65 = scaler.transform(dataset65)\n",
    "dataset66 = scaler.transform(dataset66)\n",
    "dataset67 = scaler.transform(dataset67)\n",
    "dataset68 = scaler.transform(dataset68)\n",
    "dataset69 = scaler.transform(dataset69)\n",
    "dataset70 = scaler.transform(dataset70)\n",
    "dataset71 = scaler.transform(dataset71)\n",
    "dataset72 = scaler.transform(dataset72)\n",
    "dataset73 = scaler.transform(dataset73)\n",
    "dataset74 = scaler.transform(dataset74)\n",
    "dataset75 = scaler.transform(dataset75)\n",
    "dataset76 = scaler.transform(dataset76)\n",
    "dataset77 = scaler.transform(dataset77)\n",
    "dataset78 = scaler.transform(dataset78)\n",
    "dataset79 = scaler.transform(dataset79)\n",
    "dataset80 = scaler.transform(dataset80)\n",
    "dataset81 = scaler.transform(dataset81)\n",
    "dataset82 = scaler.transform(dataset82)\n",
    "dataset83 = scaler.transform(dataset83)\n",
    "dataset84 = scaler.transform(dataset84)\n",
    "dataset85 = scaler.transform(dataset85)\n",
    "dataset86 = scaler.transform(dataset86)\n",
    "dataset87 = scaler.transform(dataset87)\n",
    "dataset88 = scaler.transform(dataset88)\n",
    "dataset89 = scaler.transform(dataset89)\n",
    "dataset90 = scaler.transform(dataset90)\n",
    "dataset91 = scaler.transform(dataset91)\n",
    "dataset92 = scaler.transform(dataset92)\n",
    "dataset93 = scaler.transform(dataset93)\n",
    "dataset94 = scaler.transform(dataset94)\n",
    "dataset95 = scaler.transform(dataset95)"
   ]
  },
  {
   "cell_type": "markdown",
   "metadata": {},
   "source": [
    "# save normalization model"
   ]
  },
  {
   "cell_type": "code",
   "execution_count": 12,
   "metadata": {},
   "outputs": [
    {
     "data": {
      "text/plain": [
       "['model_norm24hr.pkl']"
      ]
     },
     "execution_count": 12,
     "metadata": {},
     "output_type": "execute_result"
    }
   ],
   "source": [
    "joblib.dump(scaler, 'model_norm24hr.pkl')"
   ]
  },
  {
   "cell_type": "markdown",
   "metadata": {},
   "source": [
    "# function split data"
   ]
  },
  {
   "cell_type": "code",
   "execution_count": 7,
   "metadata": {},
   "outputs": [],
   "source": [
    "def getdataTimestep(dataset,hour):\n",
    "    training = []\n",
    "    hoursp=hour\n",
    "    start = 0\n",
    "    end = 24\n",
    "    data1 = dataset[0:len(dataset)-23,:]\n",
    "    for x in range(0,len(data1)-end):\n",
    "        training.append(data1[(end-hoursp)+x:end+x,:])\n",
    "    return training"
   ]
  },
  {
   "cell_type": "markdown",
   "metadata": {},
   "source": [
    "# split data"
   ]
  },
  {
   "cell_type": "code",
   "execution_count": 8,
   "metadata": {},
   "outputs": [
    {
     "name": "stdout",
     "output_type": "stream",
     "text": [
      "69992\n",
      "69992\n",
      "[[0. 1. 0. 0. 0. 0.]\n",
      " [0. 1. 0. 0. 0. 0.]\n",
      " [0. 1. 0. 0. 0. 0.]\n",
      " ...\n",
      " [0. 0. 0. 0. 0. 1.]\n",
      " [0. 0. 0. 0. 0. 1.]\n",
      " [0. 0. 0. 0. 0. 1.]]\n"
     ]
    }
   ],
   "source": [
    "hour = 24\n",
    "x_train =  getdataTimestep(dataset,hour)+getdataTimestep(dataset1,hour)+getdataTimestep(dataset2,hour)+getdataTimestep(dataset3,hour)+getdataTimestep(dataset4,hour)+getdataTimestep(dataset5,hour)+getdataTimestep(dataset6,hour)+getdataTimestep(dataset7,hour)+getdataTimestep(dataset8,hour)+getdataTimestep(dataset9,hour)+getdataTimestep(dataset10,hour)+getdataTimestep(dataset11,hour)+getdataTimestep(dataset12,hour)+getdataTimestep(dataset13,hour)+getdataTimestep(dataset14,hour)+getdataTimestep(dataset15,hour)+getdataTimestep(dataset16,hour)+getdataTimestep(dataset17,hour)+getdataTimestep(dataset18,hour)+getdataTimestep(dataset19,hour)+getdataTimestep(dataset20,hour)+getdataTimestep(dataset21,hour)+getdataTimestep(dataset22,hour)+getdataTimestep(dataset23,hour)+getdataTimestep(dataset24,hour)+getdataTimestep(dataset25,hour)+getdataTimestep(dataset26,hour)+getdataTimestep(dataset27,hour)+getdataTimestep(dataset28,hour)+getdataTimestep(dataset29,hour)+getdataTimestep(dataset30,hour)+getdataTimestep(dataset31,hour)+getdataTimestep(dataset32,hour)+getdataTimestep(dataset33,hour)+getdataTimestep(dataset34,hour)+getdataTimestep(dataset35,hour)+getdataTimestep(dataset36,hour)+getdataTimestep(dataset37,hour)+getdataTimestep(dataset38,hour)+getdataTimestep(dataset39,hour)+getdataTimestep(dataset40,hour)+getdataTimestep(dataset41,hour)+getdataTimestep(dataset42,hour)+getdataTimestep(dataset43,hour)+getdataTimestep(dataset44,hour)+getdataTimestep(dataset45,hour)+getdataTimestep(dataset46,hour)+getdataTimestep(dataset47,hour)+getdataTimestep(dataset48,hour)+getdataTimestep(dataset49,hour)+getdataTimestep(dataset50,hour)+getdataTimestep(dataset51,hour)+getdataTimestep(dataset52,hour)+getdataTimestep(dataset53,hour)+getdataTimestep(dataset54,hour)+getdataTimestep(dataset55,hour)+getdataTimestep(dataset56,hour)+getdataTimestep(dataset57,hour)+getdataTimestep(dataset58,hour)+getdataTimestep(dataset59,hour)+getdataTimestep(dataset60,hour)+getdataTimestep(dataset61,hour)+getdataTimestep(dataset62,hour)+getdataTimestep(dataset63,hour)+getdataTimestep(dataset64,hour)+getdataTimestep(dataset65,hour)+getdataTimestep(dataset66,hour)+getdataTimestep(dataset67,hour)+getdataTimestep(dataset68,hour)+getdataTimestep(dataset69,hour)+getdataTimestep(dataset70,hour)+getdataTimestep(dataset71,hour)+getdataTimestep(dataset72,hour)+getdataTimestep(dataset73,hour)+getdataTimestep(dataset74,hour)+getdataTimestep(dataset75,hour)+getdataTimestep(dataset76,hour)+getdataTimestep(dataset77,hour)+getdataTimestep(dataset78,hour)+getdataTimestep(dataset79,hour)+getdataTimestep(dataset80,hour)+getdataTimestep(dataset81,hour)+getdataTimestep(dataset82,hour)+getdataTimestep(dataset83,hour)+getdataTimestep(dataset84,hour)+getdataTimestep(dataset85,hour)+getdataTimestep(dataset86,hour)+getdataTimestep(dataset87,hour)+getdataTimestep(dataset88,hour)+getdataTimestep(dataset89,hour)+getdataTimestep(dataset90,hour)+getdataTimestep(dataset91,hour)+getdataTimestep(dataset92,hour)+getdataTimestep(dataset93,hour)+getdataTimestep(dataset94,hour)+getdataTimestep(dataset95,hour)\n",
    "x_train = np.array(x_train,np.float64)\n",
    "outputtrain = np.array(outputtrain,np.float64)\n",
    "y_train = to_categorical(outputtrain)\n",
    "print(len(x_train))\n",
    "print(len(outputtrain))\n",
    "print(y_train)"
   ]
  },
  {
   "cell_type": "markdown",
   "metadata": {},
   "source": [
    "# LSTM architecture"
   ]
  },
  {
   "cell_type": "code",
   "execution_count": 9,
   "metadata": {},
   "outputs": [],
   "source": [
    "data_dim = 6\n",
    "timesteps = 24\n",
    "\n",
    "model = Sequential()\n",
    "model.add(LSTM(32,input_shape=(timesteps,data_dim),return_sequences=True))#True = many to many\n",
    "model.add(LSTM(32, return_sequences=True))  # returns a sequence of vectors of dimension 32\n",
    "model.add(LSTM(32))\n",
    "model.add(Dropout(0.3))\n",
    "model.add(Dense(6,activation='softmax'))\n",
    "model.compile(optimizer='rmsprop',\n",
    "              loss='categorical_crossentropy',\n",
    "              metrics=['accuracy'])"
   ]
  },
  {
   "cell_type": "markdown",
   "metadata": {},
   "source": [
    "# Fit Model"
   ]
  },
  {
   "cell_type": "code",
   "execution_count": 10,
   "metadata": {},
   "outputs": [
    {
     "name": "stdout",
     "output_type": "stream",
     "text": [
      "_________________________________________________________________\n",
      "Layer (type)                 Output Shape              Param #   \n",
      "=================================================================\n",
      "lstm_1 (LSTM)                (None, 24, 32)            4992      \n",
      "_________________________________________________________________\n",
      "lstm_2 (LSTM)                (None, 24, 32)            8320      \n",
      "_________________________________________________________________\n",
      "lstm_3 (LSTM)                (None, 32)                8320      \n",
      "_________________________________________________________________\n",
      "dropout_1 (Dropout)          (None, 32)                0         \n",
      "_________________________________________________________________\n",
      "dense_1 (Dense)              (None, 6)                 198       \n",
      "=================================================================\n",
      "Total params: 21,830\n",
      "Trainable params: 21,830\n",
      "Non-trainable params: 0\n",
      "_________________________________________________________________\n",
      "Epoch 1/100\n",
      "69992/69992 [==============================] - 17s 237us/step - loss: 1.0469 - acc: 0.5578\n",
      "Epoch 2/100\n",
      "69992/69992 [==============================] - 16s 228us/step - loss: 0.9109 - acc: 0.6157\n",
      "Epoch 3/100\n",
      "69992/69992 [==============================] - 16s 228us/step - loss: 0.8707 - acc: 0.6332\n",
      "Epoch 4/100\n",
      "69992/69992 [==============================] - 17s 239us/step - loss: 0.8438 - acc: 0.6455\n",
      "Epoch 5/100\n",
      "69992/69992 [==============================] - 16s 235us/step - loss: 0.8212 - acc: 0.65531\n",
      "Epoch 6/100\n",
      "69992/69992 [==============================] - 15s 218us/step - loss: 0.8059 - acc: 0.6635\n",
      "Epoch 7/100\n",
      "69992/69992 [==============================] - 16s 234us/step - loss: 0.7891 - acc: 0.6710\n",
      "Epoch 8/100\n",
      "69992/69992 [==============================] - 16s 223us/step - loss: 0.7735 - acc: 0.6772\n",
      "Epoch 9/100\n",
      "69992/69992 [==============================] - 14s 205us/step - loss: 0.7577 - acc: 0.6872\n",
      "Epoch 10/100\n",
      "69992/69992 [==============================] - 13s 181us/step - loss: 0.7422 - acc: 0.6920\n",
      "Epoch 11/100\n",
      "69992/69992 [==============================] - 14s 194us/step - loss: 0.7272 - acc: 0.6987\n",
      "Epoch 12/100\n",
      "69992/69992 [==============================] - 13s 183us/step - loss: 0.7137 - acc: 0.7078\n",
      "Epoch 13/100\n",
      "69992/69992 [==============================] - 12s 176us/step - loss: 0.6985 - acc: 0.7141\n",
      "Epoch 14/100\n",
      "69992/69992 [==============================] - 13s 191us/step - loss: 0.6831 - acc: 0.7214\n",
      "Epoch 15/100\n",
      "69992/69992 [==============================] - 13s 185us/step - loss: 0.6693 - acc: 0.7258\n",
      "Epoch 16/100\n",
      "69992/69992 [==============================] - 13s 184us/step - loss: 0.6560 - acc: 0.7330\n",
      "Epoch 17/100\n",
      "69992/69992 [==============================] - 13s 189us/step - loss: 0.6425 - acc: 0.7386\n",
      "Epoch 18/100\n",
      "69992/69992 [==============================] - 14s 194us/step - loss: 0.6268 - acc: 0.7458\n",
      "Epoch 19/100\n",
      "69992/69992 [==============================] - 13s 193us/step - loss: 0.6149 - acc: 0.7526\n",
      "Epoch 20/100\n",
      "69992/69992 [==============================] - 13s 192us/step - loss: 0.6002 - acc: 0.7584\n",
      "Epoch 21/100\n",
      "69992/69992 [==============================] - 15s 209us/step - loss: 0.5884 - acc: 0.7639\n",
      "Epoch 22/100\n",
      "69992/69992 [==============================] - 14s 195us/step - loss: 0.5760 - acc: 0.7691\n",
      "Epoch 23/100\n",
      "69992/69992 [==============================] - 14s 199us/step - loss: 0.5634 - acc: 0.7745\n",
      "Epoch 24/100\n",
      "69992/69992 [==============================] - 14s 197us/step - loss: 0.5506 - acc: 0.7796\n",
      "Epoch 25/100\n",
      "69992/69992 [==============================] - 12s 169us/step - loss: 0.5369 - acc: 0.7867\n",
      "Epoch 26/100\n",
      "69992/69992 [==============================] - 13s 180us/step - loss: 0.5266 - acc: 0.7906\n",
      "Epoch 27/100\n",
      "69992/69992 [==============================] - 12s 174us/step - loss: 0.5120 - acc: 0.7974\n",
      "Epoch 28/100\n",
      "69992/69992 [==============================] - 11s 161us/step - loss: 0.5014 - acc: 0.8014\n",
      "Epoch 29/100\n",
      "69992/69992 [==============================] - 12s 165us/step - loss: 0.4927 - acc: 0.8055\n",
      "Epoch 30/100\n",
      "69992/69992 [==============================] - 13s 179us/step - loss: 0.4816 - acc: 0.81090s - loss: 0.4817 - acc: 0.8\n",
      "Epoch 31/100\n",
      "69992/69992 [==============================] - 14s 198us/step - loss: 0.4706 - acc: 0.81481s - loss: 0.\n",
      "Epoch 32/100\n",
      "69992/69992 [==============================] - 12s 177us/step - loss: 0.4618 - acc: 0.8169\n",
      "Epoch 33/100\n",
      "69992/69992 [==============================] - 13s 189us/step - loss: 0.4526 - acc: 0.8232\n",
      "Epoch 34/100\n",
      "69992/69992 [==============================] - 18s 254us/step - loss: 0.4444 - acc: 0.8258\n",
      "Epoch 35/100\n",
      "69992/69992 [==============================] - 16s 228us/step - loss: 0.4317 - acc: 0.83171s\n",
      "Epoch 36/100\n",
      "69992/69992 [==============================] - 15s 221us/step - loss: 0.4266 - acc: 0.8349\n",
      "Epoch 37/100\n",
      "69992/69992 [==============================] - 16s 232us/step - loss: 0.4177 - acc: 0.8382\n",
      "Epoch 38/100\n",
      "69992/69992 [==============================] - 16s 235us/step - loss: 0.4095 - acc: 0.8423\n",
      "Epoch 39/100\n",
      "69992/69992 [==============================] - 14s 201us/step - loss: 0.4013 - acc: 0.8447\n",
      "Epoch 40/100\n",
      "69992/69992 [==============================] - 14s 203us/step - loss: 0.3934 - acc: 0.8490\n",
      "Epoch 41/100\n",
      "69992/69992 [==============================] - 14s 206us/step - loss: 0.3871 - acc: 0.8512\n",
      "Epoch 42/100\n",
      "69992/69992 [==============================] - 13s 190us/step - loss: 0.3776 - acc: 0.8538\n",
      "Epoch 43/100\n",
      "69992/69992 [==============================] - 12s 177us/step - loss: 0.3699 - acc: 0.8590\n",
      "Epoch 44/100\n",
      "69992/69992 [==============================] - 12s 170us/step - loss: 0.3645 - acc: 0.8601\n",
      "Epoch 45/100\n",
      "69992/69992 [==============================] - 14s 205us/step - loss: 0.3577 - acc: 0.8651\n",
      "Epoch 46/100\n",
      "69992/69992 [==============================] - 14s 200us/step - loss: 0.3527 - acc: 0.8649\n",
      "Epoch 47/100\n",
      "69992/69992 [==============================] - 15s 210us/step - loss: 0.3454 - acc: 0.87031s - loss: 0.3\n",
      "Epoch 48/100\n",
      "69992/69992 [==============================] - 13s 193us/step - loss: 0.3417 - acc: 0.87151s -\n",
      "Epoch 49/100\n",
      "69992/69992 [==============================] - 13s 189us/step - loss: 0.3354 - acc: 0.87361s - loss: \n",
      "Epoch 50/100\n",
      "69992/69992 [==============================] - 14s 202us/step - loss: 0.3295 - acc: 0.8771\n",
      "Epoch 51/100\n",
      "69992/69992 [==============================] - 15s 209us/step - loss: 0.3224 - acc: 0.8797\n",
      "Epoch 52/100\n",
      "69992/69992 [==============================] - ETA: 0s - loss: 0.3179 - acc: 0.880 - 14s 205us/step - loss: 0.3179 - acc: 0.8807\n",
      "Epoch 53/100\n",
      "69992/69992 [==============================] - 14s 203us/step - loss: 0.3152 - acc: 0.8830\n",
      "Epoch 54/100\n",
      "69992/69992 [==============================] - 14s 203us/step - loss: 0.3069 - acc: 0.8859\n",
      "Epoch 55/100\n",
      "69992/69992 [==============================] - 16s 226us/step - loss: 0.3043 - acc: 0.8873\n",
      "Epoch 56/100\n",
      "69992/69992 [==============================] - 13s 185us/step - loss: 0.2980 - acc: 0.8885\n",
      "Epoch 57/100\n",
      "69992/69992 [==============================] - 15s 209us/step - loss: 0.2973 - acc: 0.8890\n",
      "Epoch 58/100\n",
      "69992/69992 [==============================] - 16s 222us/step - loss: 0.2899 - acc: 0.8924\n",
      "Epoch 59/100\n",
      "69992/69992 [==============================] - 15s 209us/step - loss: 0.2865 - acc: 0.8930\n",
      "Epoch 60/100\n",
      "69992/69992 [==============================] - 15s 217us/step - loss: 0.2826 - acc: 0.8950\n",
      "Epoch 61/100\n",
      "69992/69992 [==============================] - 14s 205us/step - loss: 0.2783 - acc: 0.8971\n",
      "Epoch 62/100\n",
      "69992/69992 [==============================] - 14s 205us/step - loss: 0.2725 - acc: 0.9000\n",
      "Epoch 63/100\n",
      "69992/69992 [==============================] - 15s 212us/step - loss: 0.2707 - acc: 0.9004\n",
      "Epoch 64/100\n",
      "69992/69992 [==============================] - 12s 176us/step - loss: 0.2670 - acc: 0.9016\n",
      "Epoch 65/100\n",
      "69992/69992 [==============================] - 14s 206us/step - loss: 0.2643 - acc: 0.9032\n",
      "Epoch 66/100\n",
      "69992/69992 [==============================] - 15s 210us/step - loss: 0.2618 - acc: 0.9039\n",
      "Epoch 67/100\n",
      "69992/69992 [==============================] - 14s 202us/step - loss: 0.2568 - acc: 0.9062\n",
      "Epoch 68/100\n",
      "69992/69992 [==============================] - 16s 222us/step - loss: 0.2555 - acc: 0.9060\n",
      "Epoch 69/100\n"
     ]
    },
    {
     "name": "stdout",
     "output_type": "stream",
     "text": [
      "69992/69992 [==============================] - 14s 203us/step - loss: 0.2539 - acc: 0.9084\n",
      "Epoch 70/100\n",
      "69992/69992 [==============================] - 15s 218us/step - loss: 0.2485 - acc: 0.9097\n",
      "Epoch 71/100\n",
      "69992/69992 [==============================] - 15s 213us/step - loss: 0.2447 - acc: 0.9110\n",
      "Epoch 72/100\n",
      "69992/69992 [==============================] - 15s 213us/step - loss: 0.2427 - acc: 0.9122\n",
      "Epoch 73/100\n",
      "69992/69992 [==============================] - 13s 191us/step - loss: 0.2379 - acc: 0.9126\n",
      "Epoch 74/100\n",
      "69992/69992 [==============================] - 14s 206us/step - loss: 0.2374 - acc: 0.9147\n",
      "Epoch 75/100\n",
      "69992/69992 [==============================] - 15s 213us/step - loss: 0.2357 - acc: 0.9145\n",
      "Epoch 76/100\n",
      "69992/69992 [==============================] - 16s 232us/step - loss: 0.2294 - acc: 0.9166\n",
      "Epoch 77/100\n",
      "69992/69992 [==============================] - 14s 202us/step - loss: 0.2280 - acc: 0.9176\n",
      "Epoch 78/100\n",
      "69992/69992 [==============================] - 13s 189us/step - loss: 0.2279 - acc: 0.9172\n",
      "Epoch 79/100\n",
      "69992/69992 [==============================] - 14s 195us/step - loss: 0.2247 - acc: 0.9185\n",
      "Epoch 80/100\n",
      "69992/69992 [==============================] - 14s 203us/step - loss: 0.2219 - acc: 0.9197\n",
      "Epoch 81/100\n",
      "69992/69992 [==============================] - 13s 184us/step - loss: 0.2210 - acc: 0.9200\n",
      "Epoch 82/100\n",
      "69992/69992 [==============================] - 15s 214us/step - loss: 0.2171 - acc: 0.9213\n",
      "Epoch 83/100\n",
      "69992/69992 [==============================] - 13s 192us/step - loss: 0.2148 - acc: 0.9225\n",
      "Epoch 84/100\n",
      "69992/69992 [==============================] - 12s 172us/step - loss: 0.2134 - acc: 0.9239\n",
      "Epoch 85/100\n",
      "69992/69992 [==============================] - 12s 175us/step - loss: 0.2097 - acc: 0.9240\n",
      "Epoch 86/100\n",
      "69992/69992 [==============================] - 12s 175us/step - loss: 0.2087 - acc: 0.9250\n",
      "Epoch 87/100\n",
      "69992/69992 [==============================] - 12s 173us/step - loss: 0.2062 - acc: 0.9259\n",
      "Epoch 88/100\n",
      "69992/69992 [==============================] - 12s 170us/step - loss: 0.2044 - acc: 0.9264\n",
      "Epoch 89/100\n",
      "69992/69992 [==============================] - 12s 173us/step - loss: 0.2026 - acc: 0.9277\n",
      "Epoch 90/100\n",
      "69992/69992 [==============================] - 14s 196us/step - loss: 0.2016 - acc: 0.92750s - loss: 0.2013 \n",
      "Epoch 91/100\n",
      "69992/69992 [==============================] - 16s 226us/step - loss: 0.2002 - acc: 0.9281\n",
      "Epoch 92/100\n",
      "69992/69992 [==============================] - 14s 199us/step - loss: 0.1970 - acc: 0.9298\n",
      "Epoch 93/100\n",
      "69992/69992 [==============================] - 12s 169us/step - loss: 0.1949 - acc: 0.9290\n",
      "Epoch 94/100\n",
      "69992/69992 [==============================] - 12s 171us/step - loss: 0.1920 - acc: 0.9313\n",
      "Epoch 95/100\n",
      "69992/69992 [==============================] - 12s 169us/step - loss: 0.1923 - acc: 0.9308\n",
      "Epoch 96/100\n",
      "69992/69992 [==============================] - 12s 170us/step - loss: 0.1900 - acc: 0.9320\n",
      "Epoch 97/100\n",
      "69992/69992 [==============================] - 13s 190us/step - loss: 0.1878 - acc: 0.9336\n",
      "Epoch 98/100\n",
      "69992/69992 [==============================] - 14s 197us/step - loss: 0.1875 - acc: 0.9322\n",
      "Epoch 99/100\n",
      "69992/69992 [==============================] - 15s 220us/step - loss: 0.1841 - acc: 0.9342\n",
      "Epoch 100/100\n",
      "69992/69992 [==============================] - 14s 201us/step - loss: 0.1848 - acc: 0.9336\n",
      "69992/69992 [==============================] - 15s 217us/step\n",
      "\n",
      "acc: 93.11%\n"
     ]
    }
   ],
   "source": [
    "model.summary()\n",
    "model.fit(x_train,y_train,epochs=100,batch_size=256);\n",
    "scores = model.evaluate(x_train, y_train)\n",
    "print(\"\\n%s: %.2f%%\" % (model.metrics_names[1], scores[1]*100))"
   ]
  },
  {
   "cell_type": "markdown",
   "metadata": {},
   "source": [
    "# save model"
   ]
  },
  {
   "cell_type": "code",
   "execution_count": 13,
   "metadata": {},
   "outputs": [
    {
     "name": "stdout",
     "output_type": "stream",
     "text": [
      "\n",
      "acc: 93.11%\n"
     ]
    }
   ],
   "source": [
    "print(\"\\n%s: %.2f%%\" % (model.metrics_names[1], scores[1]*100))\n",
    "model.save('my.modelLSTM24hr.h5')"
   ]
  },
  {
   "cell_type": "markdown",
   "metadata": {},
   "source": [
    "# Measure Performance"
   ]
  },
  {
   "cell_type": "markdown",
   "metadata": {},
   "source": [
    "# Load model LSTM and model normalization"
   ]
  },
  {
   "cell_type": "code",
   "execution_count": 14,
   "metadata": {},
   "outputs": [],
   "source": [
    "scaler = joblib.load('model_norm24hr.pkl')\n",
    "model24 = load_model('my.modelLSTM24hr.h5')"
   ]
  },
  {
   "cell_type": "markdown",
   "metadata": {},
   "source": [
    "# read data test and output test"
   ]
  },
  {
   "cell_type": "code",
   "execution_count": 15,
   "metadata": {},
   "outputs": [],
   "source": [
    "outputtest1 = genfromtxt('dataset/outputYtest1.csv',delimiter=',')\n",
    "outputtest2 = genfromtxt('dataset/outputYtest2.csv',delimiter=',')\n",
    "datatest1 = genfromtxt('dataset/datatest1.csv',delimiter=',')\n",
    "datatest2 = genfromtxt('dataset/datatest2.csv',delimiter=',')"
   ]
  },
  {
   "cell_type": "markdown",
   "metadata": {},
   "source": [
    "# normalization data test"
   ]
  },
  {
   "cell_type": "code",
   "execution_count": 16,
   "metadata": {},
   "outputs": [],
   "source": [
    "datatest1 = scaler.transform(datatest1)\n",
    "datatest2 = scaler.transform(datatest2)"
   ]
  },
  {
   "cell_type": "markdown",
   "metadata": {},
   "source": [
    "# function measure performance model"
   ]
  },
  {
   "cell_type": "code",
   "execution_count": 17,
   "metadata": {},
   "outputs": [],
   "source": [
    "def prediction(datatest,output):\n",
    "    newoutput=[]\n",
    "    datax=[]\n",
    "    data1 = datatest[0:len(datatest)-23,:]\n",
    "    for x in range(len(output)-24):\n",
    "        newoutput.append(output[24+x])\n",
    "    for x in range(len(data1)-24):\n",
    "        datax.append(data1[0+x:24+x,:])\n",
    "    predict=[]\n",
    "    for x in range(len(datax)):\n",
    "        test24=[]\n",
    "        test=[]\n",
    "        test24.append(datax[x])\n",
    "        test.append(test24)\n",
    "        predict.append(model24.predict_classes(test))\n",
    "    print(accuracy_score(predict,newoutput))\n",
    "    print(confusion_matrix(newoutput, predict, labels=[1, 2, 3,4,5]))"
   ]
  },
  {
   "cell_type": "markdown",
   "metadata": {},
   "source": [
    "# predicted datatest"
   ]
  },
  {
   "cell_type": "code",
   "execution_count": 18,
   "metadata": {},
   "outputs": [
    {
     "name": "stdout",
     "output_type": "stream",
     "text": [
      "0.9609984399375975\n",
      "[[118   1   0   0   0]\n",
      " [ 19 425   4   0   0]\n",
      " [  0   1  58   0   0]\n",
      " [  0   0   0  15   0]\n",
      " [  0   0   0   0   0]]\n",
      "0.809775429326288\n",
      "[[571  87  16   0   0]\n",
      " [ 37  42   1   0   0]\n",
      " [  3   0   0   0   0]\n",
      " [  0   0   0   0   0]\n",
      " [  0   0   0   0   0]]\n"
     ]
    }
   ],
   "source": [
    "prediction(datatest1,outputtest1)\n",
    "prediction(datatest2,outputtest2)"
   ]
  },
  {
   "cell_type": "code",
   "execution_count": null,
   "metadata": {},
   "outputs": [],
   "source": []
  }
 ],
 "metadata": {
  "kernelspec": {
   "display_name": "Python 3",
   "language": "python",
   "name": "python3"
  },
  "language_info": {
   "codemirror_mode": {
    "name": "ipython",
    "version": 3
   },
   "file_extension": ".py",
   "mimetype": "text/x-python",
   "name": "python",
   "nbconvert_exporter": "python",
   "pygments_lexer": "ipython3",
   "version": "3.6.7"
  }
 },
 "nbformat": 4,
 "nbformat_minor": 2
}
